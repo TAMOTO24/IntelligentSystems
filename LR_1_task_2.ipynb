{
  "cells": [
    {
      "cell_type": "code",
      "execution_count": 2,
      "metadata": {
        "id": "8tEL7ulAuR7n"
      },
      "outputs": [
        {
          "ename": "ModuleNotFoundError",
          "evalue": "No module named 'sklearn'",
          "output_type": "error",
          "traceback": [
            "\u001b[1;31m---------------------------------------------------------------------------\u001b[0m",
            "\u001b[1;31mModuleNotFoundError\u001b[0m                       Traceback (most recent call last)",
            "Cell \u001b[1;32mIn[2], line 2\u001b[0m\n\u001b[0;32m      1\u001b[0m \u001b[38;5;28;01mimport\u001b[39;00m \u001b[38;5;21;01mnumpy\u001b[39;00m \u001b[38;5;28;01mas\u001b[39;00m \u001b[38;5;21;01mnp\u001b[39;00m\n\u001b[1;32m----> 2\u001b[0m \u001b[38;5;28;01mfrom\u001b[39;00m \u001b[38;5;21;01msklearn\u001b[39;00m \u001b[38;5;28;01mimport\u001b[39;00m preprocessing\n\u001b[0;32m      4\u001b[0m input_data \u001b[38;5;241m=\u001b[39m np\u001b[38;5;241m.\u001b[39marray([[\u001b[38;5;241m-\u001b[39m\u001b[38;5;241m1.3\u001b[39m, \u001b[38;5;241m3.9\u001b[39m, \u001b[38;5;241m4.5\u001b[39m],\n\u001b[0;32m      5\u001b[0m [\u001b[38;5;241m-\u001b[39m\u001b[38;5;241m5.3\u001b[39m, \u001b[38;5;241m-\u001b[39m\u001b[38;5;241m4.2\u001b[39m, \u001b[38;5;241m3.3\u001b[39m],\n\u001b[0;32m      6\u001b[0m [\u001b[38;5;241m-\u001b[39m\u001b[38;5;241m5.2\u001b[39m, \u001b[38;5;241m-\u001b[39m\u001b[38;5;241m6.5\u001b[39m, \u001b[38;5;241m-\u001b[39m\u001b[38;5;241m1.1\u001b[39m],\n\u001b[0;32m      7\u001b[0m [\u001b[38;5;241m-\u001b[39m\u001b[38;5;241m5.2\u001b[39m, \u001b[38;5;241m2.6\u001b[39m, \u001b[38;5;241m-\u001b[39m\u001b[38;5;241m2.2\u001b[39m]])\n",
            "\u001b[1;31mModuleNotFoundError\u001b[0m: No module named 'sklearn'"
          ]
        }
      ],
      "source": [
        "import numpy as np\n",
        "from sklearn import preprocessing\n",
        "\n",
        "input_data = np.array([[-1.3, 3.9, 4.5],\n",
        "[-5.3, -4.2, 3.3],\n",
        "[-5.2, -6.5, -1.1],\n",
        "[-5.2, 2.6, -2.2]])\n"
      ]
    },
    {
      "cell_type": "markdown",
      "metadata": {
        "id": "OucbnyeSy4Fz"
      },
      "source": [
        "Бінарізація"
      ]
    },
    {
      "cell_type": "code",
      "execution_count": 2,
      "metadata": {
        "colab": {
          "base_uri": "https://localhost:8080/"
        },
        "id": "-y3WcEzWxaIc",
        "outputId": "78f89acb-e31a-4756-95b3-6aeaae5cab9a"
      },
      "outputs": [
        {
          "name": "stdout",
          "output_type": "stream",
          "text": [
            "\n",
            " Binarized data:\n",
            " [[0. 1. 1.]\n",
            " [0. 0. 1.]\n",
            " [0. 0. 0.]\n",
            " [0. 1. 0.]]\n"
          ]
        }
      ],
      "source": [
        "binarized_data = preprocessing.Binarizer(threshold=1.8).transform(input_data)\n",
        "print(\"\\n Binarized data:\\n\", binarized_data)"
      ]
    },
    {
      "cell_type": "markdown",
      "metadata": {
        "id": "zKrUt0fuy_2E"
      },
      "source": [
        "Виключення середнього"
      ]
    },
    {
      "cell_type": "code",
      "execution_count": 3,
      "metadata": {
        "colab": {
          "base_uri": "https://localhost:8080/"
        },
        "id": "G191X4mBxbCB",
        "outputId": "1910bfe9-4ea0-4626-bff8-8ae82e2da2e3"
      },
      "outputs": [
        {
          "name": "stdout",
          "output_type": "stream",
          "text": [
            "\n",
            "BEFORE: \n",
            "Mean = [-4.25  -1.05   1.125]\n",
            "Std deviation = [1.7036725  4.40028408 2.83405628]\n",
            "\n",
            "AFTER: \n",
            "Mean = [0.00000000e+00 5.55111512e-17 0.00000000e+00]\n",
            "Std deviation = [1. 1. 1.]\n"
          ]
        }
      ],
      "source": [
        "print(\"\\nBEFORE: \")\n",
        "print(\"Mean =\", input_data.mean(axis=0))\n",
        "print(\"Std deviation =\", input_data.std(axis=0))\n",
        "\n",
        "data_scaled = preprocessing.scale(input_data)\n",
        "print(\"\\nAFTER: \")\n",
        "print(\"Mean =\", data_scaled.mean(axis=0))\n",
        "print(\"Std deviation =\", data_scaled.std(axis=0))\n"
      ]
    },
    {
      "cell_type": "markdown",
      "metadata": {
        "id": "Z1XMX3nZ8aDi"
      },
      "source": [
        "Масштабування"
      ]
    },
    {
      "cell_type": "code",
      "execution_count": 4,
      "metadata": {
        "colab": {
          "base_uri": "https://localhost:8080/"
        },
        "id": "ol-6NS_6y1Ft",
        "outputId": "3165db69-aafb-45a7-8a39-9a6ed433c036"
      },
      "outputs": [
        {
          "name": "stdout",
          "output_type": "stream",
          "text": [
            "\n",
            "Мin max scaled data:\n",
            " MinMaxScaler()\n"
          ]
        },
        {
          "data": {
            "text/plain": [
              "array([[1.        , 1.        , 1.        ],\n",
              "       [0.        , 0.22115385, 0.82089552],\n",
              "       [0.025     , 0.        , 0.1641791 ],\n",
              "       [0.025     , 0.875     , 0.        ]])"
            ]
          },
          "execution_count": 4,
          "metadata": {},
          "output_type": "execute_result"
        }
      ],
      "source": [
        "data_scaled_minmax = preprocessing.MinMaxScaler(feature_range=(0, 1))\n",
        "\n",
        "print(\"\\nМin max scaled data:\\n\", data_scaled_minmax)\n",
        "data_scaled_minmax.fit_transform(input_data)\n",
        "\n"
      ]
    },
    {
      "cell_type": "markdown",
      "metadata": {
        "id": "WWhFKSIq9qF5"
      },
      "source": [
        "Нормалізація"
      ]
    },
    {
      "cell_type": "code",
      "execution_count": 5,
      "metadata": {
        "colab": {
          "base_uri": "https://localhost:8080/"
        },
        "id": "oTro2UV9y1Nk",
        "outputId": "0380c9ac-8411-46a1-ef41-5d15f93003be"
      },
      "outputs": [
        {
          "name": "stdout",
          "output_type": "stream",
          "text": [
            "\n",
            "l1 normalized data:\n",
            " [[-0.13402062  0.40206186  0.46391753]\n",
            " [-0.4140625  -0.328125    0.2578125 ]\n",
            " [-0.40625    -0.5078125  -0.0859375 ]\n",
            " [-0.52        0.26       -0.22      ]]\n",
            "\n",
            "l2 normalized data:\n",
            " [[-0.21328678  0.63986035  0.7383004 ]\n",
            " [-0.70435392 -0.55816726  0.43855999]\n",
            " [-0.61931099 -0.77413873 -0.13100809]\n",
            " [-0.83653629  0.41826814 -0.3539192 ]]\n"
          ]
        }
      ],
      "source": [
        "data_normalized_l1 = preprocessing.normalize(input_data, norm='l1')\n",
        "data_normalized_l2 = preprocessing.normalize(input_data, norm='l2')\n",
        "print(\"\\nl1 normalized data:\\n\", data_normalized_l1)\n",
        "print(\"\\nl2 normalized data:\\n\", data_normalized_l2)\n"
      ]
    }
  ],
  "metadata": {
    "colab": {
      "provenance": []
    },
    "kernelspec": {
      "display_name": "Python 3",
      "name": "python3"
    },
    "language_info": {
      "codemirror_mode": {
        "name": "ipython",
        "version": 3
      },
      "file_extension": ".py",
      "mimetype": "text/x-python",
      "name": "python",
      "nbconvert_exporter": "python",
      "pygments_lexer": "ipython3",
      "version": "3.12.3"
    }
  },
  "nbformat": 4,
  "nbformat_minor": 0
}
