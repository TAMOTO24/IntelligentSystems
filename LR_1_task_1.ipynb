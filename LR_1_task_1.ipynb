{
  "nbformat": 4,
  "nbformat_minor": 0,
  "metadata": {
    "colab": {
      "provenance": []
    },
    "kernelspec": {
      "name": "python3",
      "display_name": "Python 3"
    },
    "language_info": {
      "name": "python"
    }
  },
  "cells": [
    {
      "cell_type": "code",
      "execution_count": 2,
      "metadata": {
        "id": "8tEL7ulAuR7n"
      },
      "outputs": [],
      "source": [
        "import numpy as np\n",
        "from sklearn import preprocessing\n",
        "\n",
        "input_data = np.array([[5.1, -2.9, 3.3],\n",
        "[-1.2, 7.8, -6.1],\n",
        "[3.9, 0.4, 2.1],\n",
        "[7.3, -9.9, -4.5]])\n"
      ]
    },
    {
      "cell_type": "markdown",
      "source": [
        "Бінарізація"
      ],
      "metadata": {
        "id": "OucbnyeSy4Fz"
      }
    },
    {
      "cell_type": "code",
      "source": [
        "binarized_data = preprocessing.Binarizer(threshold=2.1).transform(input_data)\n",
        "print(\"\\n Binarized data:\\n\", binarized_data)"
      ],
      "metadata": {
        "colab": {
          "base_uri": "https://localhost:8080/"
        },
        "id": "-y3WcEzWxaIc",
        "outputId": "ffaee58c-9a89-469a-edd4-58e866c3a936"
      },
      "execution_count": 6,
      "outputs": [
        {
          "output_type": "stream",
          "name": "stdout",
          "text": [
            "\n",
            " Binarized data:\n",
            " [[1. 0. 1.]\n",
            " [0. 1. 0.]\n",
            " [1. 0. 0.]\n",
            " [1. 0. 0.]]\n"
          ]
        }
      ]
    },
    {
      "cell_type": "markdown",
      "source": [
        "Виключення середнього"
      ],
      "metadata": {
        "id": "zKrUt0fuy_2E"
      }
    },
    {
      "cell_type": "code",
      "source": [
        "print(\"\\nBEFORE: \")\n",
        "print(\"Mean =\", input_data.mean(axis=0))\n",
        "print(\"Std deviation =\", input_data.std(axis=0))\n",
        "\n",
        "data_scaled = preprocessing.scale(input_data)\n",
        "print(\"\\nAFTER: \")\n",
        "print(\"Mean =\", data_scaled.mean(axis=0))\n",
        "print(\"Std deviation =\", data_scaled.std(axis=0))\n"
      ],
      "metadata": {
        "colab": {
          "base_uri": "https://localhost:8080/"
        },
        "id": "G191X4mBxbCB",
        "outputId": "0480b3c6-fb81-42d9-fc30-fa4ce04841d2"
      },
      "execution_count": 10,
      "outputs": [
        {
          "output_type": "stream",
          "name": "stdout",
          "text": [
            "\n",
            "BEFORE: \n",
            "Mean = [ 3.775 -1.15  -1.3  ]\n",
            "Std deviation = [3.12039661 6.36651396 4.0620192 ]\n",
            "\n",
            "AFTER: \n",
            "Mean = [1.11022302e-16 0.00000000e+00 2.77555756e-17]\n",
            "Std deviation = [1. 1. 1.]\n"
          ]
        }
      ]
    },
    {
      "cell_type": "markdown",
      "source": [
        "Масштабування"
      ],
      "metadata": {
        "id": "Z1XMX3nZ8aDi"
      }
    },
    {
      "cell_type": "code",
      "source": [
        "data_scaled_minmax = preprocessing.MinMaxScaler(feature_range=(0, 1))\n",
        "\n",
        "print(\"\\nМin max scaled data:\\n\", data_scaled_minmax)\n",
        "data_scaled_minmax.fit_transform(input_data)\n",
        "\n"
      ],
      "metadata": {
        "colab": {
          "base_uri": "https://localhost:8080/"
        },
        "id": "ol-6NS_6y1Ft",
        "outputId": "f414ee62-9442-47d2-c4c9-2e3a7b0c9ac2"
      },
      "execution_count": 18,
      "outputs": [
        {
          "output_type": "stream",
          "name": "stdout",
          "text": [
            "\n",
            "Мin max scaled data:\n",
            " MinMaxScaler()\n"
          ]
        },
        {
          "output_type": "execute_result",
          "data": {
            "text/plain": [
              "array([[0.74117647, 0.39548023, 1.        ],\n",
              "       [0.        , 1.        , 0.        ],\n",
              "       [0.6       , 0.5819209 , 0.87234043],\n",
              "       [1.        , 0.        , 0.17021277]])"
            ]
          },
          "metadata": {},
          "execution_count": 18
        }
      ]
    },
    {
      "cell_type": "markdown",
      "source": [
        "Нормалізація"
      ],
      "metadata": {
        "id": "WWhFKSIq9qF5"
      }
    },
    {
      "cell_type": "code",
      "source": [
        "data_normalized_l1 = preprocessing.normalize(input_data, norm='l1')\n",
        "data_normalized_l2 = preprocessing.normalize(input_data, norm='l2')\n",
        "print(\"\\nl1 normalized data:\\n\", data_normalized_l1)\n",
        "print(\"\\nl2 normalized data:\\n\", data_normalized_l2)\n"
      ],
      "metadata": {
        "colab": {
          "base_uri": "https://localhost:8080/"
        },
        "id": "oTro2UV9y1Nk",
        "outputId": "32afe0b9-668c-4ca1-8a83-8010ecbcb9c0"
      },
      "execution_count": 19,
      "outputs": [
        {
          "output_type": "stream",
          "name": "stdout",
          "text": [
            "\n",
            "l1 normalized data:\n",
            " [[ 0.45132743 -0.25663717  0.2920354 ]\n",
            " [-0.0794702   0.51655629 -0.40397351]\n",
            " [ 0.609375    0.0625      0.328125  ]\n",
            " [ 0.33640553 -0.4562212  -0.20737327]]\n",
            "\n",
            "l2 normalized data:\n",
            " [[ 0.75765788 -0.43082507  0.49024922]\n",
            " [-0.12030718  0.78199664 -0.61156148]\n",
            " [ 0.87690281  0.08993875  0.47217844]\n",
            " [ 0.55734935 -0.75585734 -0.34357152]]\n"
          ]
        }
      ]
    }
  ]
}